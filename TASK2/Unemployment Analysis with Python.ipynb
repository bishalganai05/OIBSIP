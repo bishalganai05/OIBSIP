{
 "cells": [
  {
   "cell_type": "code",
   "execution_count": 74,
   "metadata": {},
   "outputs": [],
   "source": [
    "import pandas as pd\n",
    "import numpy as np\n",
    "import matplotlib.pyplot as plt\n",
    "import seaborn as sns"
   ]
  },
  {
   "cell_type": "code",
   "execution_count": 75,
   "metadata": {},
   "outputs": [],
   "source": [
    "data = pd.read_csv(\"C:/Users/Bishal/Dropbox/My PC (DESKTOP-A78D3NP)/Desktop/OASIS/TASK2/Unemployment_Rate_upto_11_2020.csv\")"
   ]
  },
  {
   "cell_type": "code",
   "execution_count": 76,
   "metadata": {},
   "outputs": [
    {
     "data": {
      "text/html": [
       "<div>\n",
       "<style scoped>\n",
       "    .dataframe tbody tr th:only-of-type {\n",
       "        vertical-align: middle;\n",
       "    }\n",
       "\n",
       "    .dataframe tbody tr th {\n",
       "        vertical-align: top;\n",
       "    }\n",
       "\n",
       "    .dataframe thead th {\n",
       "        text-align: right;\n",
       "    }\n",
       "</style>\n",
       "<table border=\"1\" class=\"dataframe\">\n",
       "  <thead>\n",
       "    <tr style=\"text-align: right;\">\n",
       "      <th></th>\n",
       "      <th>Region</th>\n",
       "      <th>Date</th>\n",
       "      <th>Frequency</th>\n",
       "      <th>Estimated Unemployment Rate (%)</th>\n",
       "      <th>Estimated Employed</th>\n",
       "      <th>Estimated Labour Participation Rate (%)</th>\n",
       "      <th>Region.1</th>\n",
       "      <th>longitude</th>\n",
       "      <th>latitude</th>\n",
       "    </tr>\n",
       "  </thead>\n",
       "  <tbody>\n",
       "    <tr>\n",
       "      <th>0</th>\n",
       "      <td>Andhra Pradesh</td>\n",
       "      <td>31-01-2020</td>\n",
       "      <td>M</td>\n",
       "      <td>5.48</td>\n",
       "      <td>16635535</td>\n",
       "      <td>41.02</td>\n",
       "      <td>South</td>\n",
       "      <td>15.9129</td>\n",
       "      <td>79.740</td>\n",
       "    </tr>\n",
       "    <tr>\n",
       "      <th>1</th>\n",
       "      <td>Andhra Pradesh</td>\n",
       "      <td>29-02-2020</td>\n",
       "      <td>M</td>\n",
       "      <td>5.83</td>\n",
       "      <td>16545652</td>\n",
       "      <td>40.90</td>\n",
       "      <td>South</td>\n",
       "      <td>15.9129</td>\n",
       "      <td>79.740</td>\n",
       "    </tr>\n",
       "    <tr>\n",
       "      <th>2</th>\n",
       "      <td>Andhra Pradesh</td>\n",
       "      <td>31-03-2020</td>\n",
       "      <td>M</td>\n",
       "      <td>5.79</td>\n",
       "      <td>15881197</td>\n",
       "      <td>39.18</td>\n",
       "      <td>South</td>\n",
       "      <td>15.9129</td>\n",
       "      <td>79.740</td>\n",
       "    </tr>\n",
       "    <tr>\n",
       "      <th>3</th>\n",
       "      <td>Andhra Pradesh</td>\n",
       "      <td>30-04-2020</td>\n",
       "      <td>M</td>\n",
       "      <td>20.51</td>\n",
       "      <td>11336911</td>\n",
       "      <td>33.10</td>\n",
       "      <td>South</td>\n",
       "      <td>15.9129</td>\n",
       "      <td>79.740</td>\n",
       "    </tr>\n",
       "    <tr>\n",
       "      <th>4</th>\n",
       "      <td>Andhra Pradesh</td>\n",
       "      <td>31-05-2020</td>\n",
       "      <td>M</td>\n",
       "      <td>17.43</td>\n",
       "      <td>12988845</td>\n",
       "      <td>36.46</td>\n",
       "      <td>South</td>\n",
       "      <td>15.9129</td>\n",
       "      <td>79.740</td>\n",
       "    </tr>\n",
       "    <tr>\n",
       "      <th>...</th>\n",
       "      <td>...</td>\n",
       "      <td>...</td>\n",
       "      <td>...</td>\n",
       "      <td>...</td>\n",
       "      <td>...</td>\n",
       "      <td>...</td>\n",
       "      <td>...</td>\n",
       "      <td>...</td>\n",
       "      <td>...</td>\n",
       "    </tr>\n",
       "    <tr>\n",
       "      <th>262</th>\n",
       "      <td>West Bengal</td>\n",
       "      <td>30-06-2020</td>\n",
       "      <td>M</td>\n",
       "      <td>7.29</td>\n",
       "      <td>30726310</td>\n",
       "      <td>40.39</td>\n",
       "      <td>East</td>\n",
       "      <td>22.9868</td>\n",
       "      <td>87.855</td>\n",
       "    </tr>\n",
       "    <tr>\n",
       "      <th>263</th>\n",
       "      <td>West Bengal</td>\n",
       "      <td>31-07-2020</td>\n",
       "      <td>M</td>\n",
       "      <td>6.83</td>\n",
       "      <td>35372506</td>\n",
       "      <td>46.17</td>\n",
       "      <td>East</td>\n",
       "      <td>22.9868</td>\n",
       "      <td>87.855</td>\n",
       "    </tr>\n",
       "    <tr>\n",
       "      <th>264</th>\n",
       "      <td>West Bengal</td>\n",
       "      <td>31-08-2020</td>\n",
       "      <td>M</td>\n",
       "      <td>14.87</td>\n",
       "      <td>33298644</td>\n",
       "      <td>47.48</td>\n",
       "      <td>East</td>\n",
       "      <td>22.9868</td>\n",
       "      <td>87.855</td>\n",
       "    </tr>\n",
       "    <tr>\n",
       "      <th>265</th>\n",
       "      <td>West Bengal</td>\n",
       "      <td>30-09-2020</td>\n",
       "      <td>M</td>\n",
       "      <td>9.35</td>\n",
       "      <td>35707239</td>\n",
       "      <td>47.73</td>\n",
       "      <td>East</td>\n",
       "      <td>22.9868</td>\n",
       "      <td>87.855</td>\n",
       "    </tr>\n",
       "    <tr>\n",
       "      <th>266</th>\n",
       "      <td>West Bengal</td>\n",
       "      <td>31-10-2020</td>\n",
       "      <td>M</td>\n",
       "      <td>9.98</td>\n",
       "      <td>33962549</td>\n",
       "      <td>45.63</td>\n",
       "      <td>East</td>\n",
       "      <td>22.9868</td>\n",
       "      <td>87.855</td>\n",
       "    </tr>\n",
       "  </tbody>\n",
       "</table>\n",
       "<p>267 rows × 9 columns</p>\n",
       "</div>"
      ],
      "text/plain": [
       "             Region         Date  Frequency   Estimated Unemployment Rate (%)  \\\n",
       "0    Andhra Pradesh   31-01-2020          M                              5.48   \n",
       "1    Andhra Pradesh   29-02-2020          M                              5.83   \n",
       "2    Andhra Pradesh   31-03-2020          M                              5.79   \n",
       "3    Andhra Pradesh   30-04-2020          M                             20.51   \n",
       "4    Andhra Pradesh   31-05-2020          M                             17.43   \n",
       "..              ...          ...        ...                               ...   \n",
       "262     West Bengal   30-06-2020          M                              7.29   \n",
       "263     West Bengal   31-07-2020          M                              6.83   \n",
       "264     West Bengal   31-08-2020          M                             14.87   \n",
       "265     West Bengal   30-09-2020          M                              9.35   \n",
       "266     West Bengal   31-10-2020          M                              9.98   \n",
       "\n",
       "      Estimated Employed   Estimated Labour Participation Rate (%) Region.1  \\\n",
       "0               16635535                                     41.02    South   \n",
       "1               16545652                                     40.90    South   \n",
       "2               15881197                                     39.18    South   \n",
       "3               11336911                                     33.10    South   \n",
       "4               12988845                                     36.46    South   \n",
       "..                   ...                                       ...      ...   \n",
       "262             30726310                                     40.39     East   \n",
       "263             35372506                                     46.17     East   \n",
       "264             33298644                                     47.48     East   \n",
       "265             35707239                                     47.73     East   \n",
       "266             33962549                                     45.63     East   \n",
       "\n",
       "     longitude  latitude  \n",
       "0      15.9129    79.740  \n",
       "1      15.9129    79.740  \n",
       "2      15.9129    79.740  \n",
       "3      15.9129    79.740  \n",
       "4      15.9129    79.740  \n",
       "..         ...       ...  \n",
       "262    22.9868    87.855  \n",
       "263    22.9868    87.855  \n",
       "264    22.9868    87.855  \n",
       "265    22.9868    87.855  \n",
       "266    22.9868    87.855  \n",
       "\n",
       "[267 rows x 9 columns]"
      ]
     },
     "execution_count": 76,
     "metadata": {},
     "output_type": "execute_result"
    }
   ],
   "source": [
    "data"
   ]
  },
  {
   "cell_type": "code",
   "execution_count": 77,
   "metadata": {},
   "outputs": [
    {
     "data": {
      "text/html": [
       "<div>\n",
       "<style scoped>\n",
       "    .dataframe tbody tr th:only-of-type {\n",
       "        vertical-align: middle;\n",
       "    }\n",
       "\n",
       "    .dataframe tbody tr th {\n",
       "        vertical-align: top;\n",
       "    }\n",
       "\n",
       "    .dataframe thead th {\n",
       "        text-align: right;\n",
       "    }\n",
       "</style>\n",
       "<table border=\"1\" class=\"dataframe\">\n",
       "  <thead>\n",
       "    <tr style=\"text-align: right;\">\n",
       "      <th></th>\n",
       "      <th>Estimated Unemployment Rate (%)</th>\n",
       "      <th>Estimated Employed</th>\n",
       "      <th>Estimated Labour Participation Rate (%)</th>\n",
       "      <th>longitude</th>\n",
       "      <th>latitude</th>\n",
       "    </tr>\n",
       "  </thead>\n",
       "  <tbody>\n",
       "    <tr>\n",
       "      <th>count</th>\n",
       "      <td>267.000000</td>\n",
       "      <td>2.670000e+02</td>\n",
       "      <td>267.000000</td>\n",
       "      <td>267.000000</td>\n",
       "      <td>267.000000</td>\n",
       "    </tr>\n",
       "    <tr>\n",
       "      <th>mean</th>\n",
       "      <td>12.236929</td>\n",
       "      <td>1.396211e+07</td>\n",
       "      <td>41.681573</td>\n",
       "      <td>22.826048</td>\n",
       "      <td>80.532425</td>\n",
       "    </tr>\n",
       "    <tr>\n",
       "      <th>std</th>\n",
       "      <td>10.803283</td>\n",
       "      <td>1.336632e+07</td>\n",
       "      <td>7.845419</td>\n",
       "      <td>6.270731</td>\n",
       "      <td>5.831738</td>\n",
       "    </tr>\n",
       "    <tr>\n",
       "      <th>min</th>\n",
       "      <td>0.500000</td>\n",
       "      <td>1.175420e+05</td>\n",
       "      <td>16.770000</td>\n",
       "      <td>10.850500</td>\n",
       "      <td>71.192400</td>\n",
       "    </tr>\n",
       "    <tr>\n",
       "      <th>25%</th>\n",
       "      <td>4.845000</td>\n",
       "      <td>2.838930e+06</td>\n",
       "      <td>37.265000</td>\n",
       "      <td>18.112400</td>\n",
       "      <td>76.085600</td>\n",
       "    </tr>\n",
       "    <tr>\n",
       "      <th>50%</th>\n",
       "      <td>9.650000</td>\n",
       "      <td>9.732417e+06</td>\n",
       "      <td>40.390000</td>\n",
       "      <td>23.610200</td>\n",
       "      <td>79.019300</td>\n",
       "    </tr>\n",
       "    <tr>\n",
       "      <th>75%</th>\n",
       "      <td>16.755000</td>\n",
       "      <td>2.187869e+07</td>\n",
       "      <td>44.055000</td>\n",
       "      <td>27.278400</td>\n",
       "      <td>85.279900</td>\n",
       "    </tr>\n",
       "    <tr>\n",
       "      <th>max</th>\n",
       "      <td>75.850000</td>\n",
       "      <td>5.943376e+07</td>\n",
       "      <td>69.690000</td>\n",
       "      <td>33.778200</td>\n",
       "      <td>92.937600</td>\n",
       "    </tr>\n",
       "  </tbody>\n",
       "</table>\n",
       "</div>"
      ],
      "text/plain": [
       "        Estimated Unemployment Rate (%)   Estimated Employed  \\\n",
       "count                        267.000000         2.670000e+02   \n",
       "mean                          12.236929         1.396211e+07   \n",
       "std                           10.803283         1.336632e+07   \n",
       "min                            0.500000         1.175420e+05   \n",
       "25%                            4.845000         2.838930e+06   \n",
       "50%                            9.650000         9.732417e+06   \n",
       "75%                           16.755000         2.187869e+07   \n",
       "max                           75.850000         5.943376e+07   \n",
       "\n",
       "        Estimated Labour Participation Rate (%)   longitude    latitude  \n",
       "count                                267.000000  267.000000  267.000000  \n",
       "mean                                  41.681573   22.826048   80.532425  \n",
       "std                                    7.845419    6.270731    5.831738  \n",
       "min                                   16.770000   10.850500   71.192400  \n",
       "25%                                   37.265000   18.112400   76.085600  \n",
       "50%                                   40.390000   23.610200   79.019300  \n",
       "75%                                   44.055000   27.278400   85.279900  \n",
       "max                                   69.690000   33.778200   92.937600  "
      ]
     },
     "execution_count": 77,
     "metadata": {},
     "output_type": "execute_result"
    }
   ],
   "source": [
    "data.describe()"
   ]
  },
  {
   "cell_type": "code",
   "execution_count": 78,
   "metadata": {},
   "outputs": [
    {
     "name": "stdout",
     "output_type": "stream",
     "text": [
      "<class 'pandas.core.frame.DataFrame'>\n",
      "RangeIndex: 267 entries, 0 to 266\n",
      "Data columns (total 9 columns):\n",
      " #   Column                                    Non-Null Count  Dtype  \n",
      "---  ------                                    --------------  -----  \n",
      " 0   Region                                    267 non-null    object \n",
      " 1    Date                                     267 non-null    object \n",
      " 2    Frequency                                267 non-null    object \n",
      " 3    Estimated Unemployment Rate (%)          267 non-null    float64\n",
      " 4    Estimated Employed                       267 non-null    int64  \n",
      " 5    Estimated Labour Participation Rate (%)  267 non-null    float64\n",
      " 6   Region.1                                  267 non-null    object \n",
      " 7   longitude                                 267 non-null    float64\n",
      " 8   latitude                                  267 non-null    float64\n",
      "dtypes: float64(4), int64(1), object(4)\n",
      "memory usage: 18.9+ KB\n"
     ]
    }
   ],
   "source": [
    "data.info()"
   ]
  },
  {
   "cell_type": "code",
   "execution_count": 79,
   "metadata": {},
   "outputs": [
    {
     "data": {
      "text/plain": [
       "Region                                      0\n",
       " Date                                       0\n",
       " Frequency                                  0\n",
       " Estimated Unemployment Rate (%)            0\n",
       " Estimated Employed                         0\n",
       " Estimated Labour Participation Rate (%)    0\n",
       "Region.1                                    0\n",
       "longitude                                   0\n",
       "latitude                                    0\n",
       "dtype: int64"
      ]
     },
     "execution_count": 79,
     "metadata": {},
     "output_type": "execute_result"
    }
   ],
   "source": [
    "data.isnull().sum()"
   ]
  },
  {
   "cell_type": "code",
   "execution_count": 80,
   "metadata": {},
   "outputs": [],
   "source": [
    "state = 'Region'\n",
    "unemployment_rate = ' Estimated Unemployment Rate (%)'"
   ]
  },
  {
   "cell_type": "code",
   "execution_count": 81,
   "metadata": {},
   "outputs": [
    {
     "data": {
      "image/png": "[encoded data removed]",
      "text/plain": [
       "<Figure size 1008x648 with 1 Axes>"
      ]
     },
     "metadata": {
      "needs_background": "light"
     },
     "output_type": "display_data"
    }
   ],
   "source": [
    "# Plotting bar chart of average unemployment rate by region\n",
    "average_unemployment_by_region = data.groupby(state)[unemployment_rate_column].mean()\n",
    "fig= plt.subplots(figsize =(14, 9))\n",
    "average_unemployment_by_region.plot(kind='barh')\n",
    "plt.xlabel('Region')\n",
    "plt.ylabel('Unemployment Rate')\n",
    "plt.title('Unemployment Rate by State')\n",
    "plt.show()"
   ]
  },
  {
   "cell_type": "code",
   "execution_count": 82,
   "metadata": {},
   "outputs": [],
   "source": [
    "employment_rate = ' Estimated Employed'"
   ]
  },
  {
   "cell_type": "code",
   "execution_count": 83,
   "metadata": {},
   "outputs": [
    {
     "data": {
      "image/png": "[encoded data removed]",
      "text/plain": [
       "<Figure size 1008x648 with 1 Axes>"
      ]
     },
     "metadata": {
      "needs_background": "light"
     },
     "output_type": "display_data"
    }
   ],
   "source": [
    "# Plotting bar chart of employed population by region\n",
    "employed_by_region = data.groupby(state)[employment_rate].sum()\n",
    "fig= plt.subplots(figsize =(14, 9))\n",
    "employed_by_region.plot(kind='barh')\n",
    "plt.xlabel('Region')\n",
    "plt.ylabel('Employed Population')\n",
    "plt.title('Employed Population by State')\n",
    "plt.show()"
   ]
  },
  {
   "cell_type": "markdown",
   "metadata": {},
   "source": [
    "### Renaming the columns name "
   ]
  },
  {
   "cell_type": "code",
   "execution_count": 84,
   "metadata": {},
   "outputs": [],
   "source": [
    "data.columns= [\"States\",\"Date\",\"Frequency\",\"Unemployment Rate\",\"Employment Rate\",\"Labour Participation Rate\",\"Region\",\"longitude\",\"latitude\"]\n"
   ]
  },
  {
   "cell_type": "code",
   "execution_count": 85,
   "metadata": {},
   "outputs": [
    {
     "name": "stdout",
     "output_type": "stream",
     "text": [
      "Requirement already satisfied: plotly in c:\\users\\bishal\\anaconda3\\lib\\site-packages (5.15.0)\n",
      "Requirement already satisfied: tenacity>=6.2.0 in c:\\users\\bishal\\anaconda3\\lib\\site-packages (from plotly) (8.2.2)\n",
      "Requirement already satisfied: packaging in c:\\users\\bishal\\anaconda3\\lib\\site-packages (from plotly) (20.4)\n",
      "Requirement already satisfied: pyparsing>=2.0.2 in c:\\users\\bishal\\anaconda3\\lib\\site-packages (from packaging->plotly) (2.4.7)\n",
      "Requirement already satisfied: six in c:\\users\\bishal\\anaconda3\\lib\\site-packages (from packaging->plotly) (1.15.0)\n",
      "Note: you may need to restart the kernel to use updated packages.\n"
     ]
    }
   ],
   "source": [
    "pip install plotly"
   ]
  },
  {
   "cell_type": "code",
   "execution_count": 86,
   "metadata": {},
   "outputs": [
    {
     "name": "stdout",
     "output_type": "stream",
     "text": [
      "Requirement already satisfied: cufflinks in c:\\users\\bishal\\anaconda3\\lib\\site-packages (0.17.3)\n",
      "Requirement already satisfied: ipython>=5.3.0 in c:\\users\\bishal\\anaconda3\\lib\\site-packages (from cufflinks) (7.19.0)\n",
      "Requirement already satisfied: plotly>=4.1.1 in c:\\users\\bishal\\anaconda3\\lib\\site-packages (from cufflinks) (5.15.0)\n",
      "Requirement already satisfied: pandas>=0.19.2 in c:\\users\\bishal\\anaconda3\\lib\\site-packages (from cufflinks) (1.1.3)\n",
      "Requirement already satisfied: ipywidgets>=7.0.0 in c:\\users\\bishal\\anaconda3\\lib\\site-packages (from cufflinks) (7.5.1)\n",
      "Requirement already satisfied: six>=1.9.0 in c:\\users\\bishal\\anaconda3\\lib\\site-packages (from cufflinks) (1.15.0)\n",
      "Requirement already satisfied: numpy>=1.9.2 in c:\\users\\bishal\\anaconda3\\lib\\site-packages (from cufflinks) (1.24.2)\n",
      "Requirement already satisfied: setuptools>=34.4.1 in c:\\users\\bishal\\anaconda3\\lib\\site-packages (from cufflinks) (50.3.1.post20201107)\n",
      "Requirement already satisfied: colorlover>=0.2.1 in c:\\users\\bishal\\anaconda3\\lib\\site-packages (from cufflinks) (0.3.0)\n",
      "Requirement already satisfied: decorator in c:\\users\\bishal\\anaconda3\\lib\\site-packages (from ipython>=5.3.0->cufflinks) (4.4.2)\n",
      "Requirement already satisfied: colorama; sys_platform == \"win32\" in c:\\users\\bishal\\anaconda3\\lib\\site-packages (from ipython>=5.3.0->cufflinks) (0.4.4)\n",
      "Requirement already satisfied: traitlets>=4.2 in c:\\users\\bishal\\anaconda3\\lib\\site-packages (from ipython>=5.3.0->cufflinks) (5.0.5)\n",
      "Requirement already satisfied: pygments in c:\\users\\bishal\\anaconda3\\lib\\site-packages (from ipython>=5.3.0->cufflinks) (2.7.2)\n",
      "Requirement already satisfied: pickleshare in c:\\users\\bishal\\anaconda3\\lib\\site-packages (from ipython>=5.3.0->cufflinks) (0.7.5)\n",
      "Requirement already satisfied: backcall in c:\\users\\bishal\\anaconda3\\lib\\site-packages (from ipython>=5.3.0->cufflinks) (0.2.0)\n",
      "Requirement already satisfied: prompt-toolkit!=3.0.0,!=3.0.1,<3.1.0,>=2.0.0 in c:\\users\\bishal\\anaconda3\\lib\\site-packages (from ipython>=5.3.0->cufflinks) (3.0.8)\n",
      "Requirement already satisfied: jedi>=0.10 in c:\\users\\bishal\\anaconda3\\lib\\site-packages (from ipython>=5.3.0->cufflinks) (0.17.1)\n",
      "Requirement already satisfied: packaging in c:\\users\\bishal\\anaconda3\\lib\\site-packages (from plotly>=4.1.1->cufflinks) (20.4)\n",
      "Requirement already satisfied: tenacity>=6.2.0 in c:\\users\\bishal\\anaconda3\\lib\\site-packages (from plotly>=4.1.1->cufflinks) (8.2.2)\n",
      "Requirement already satisfied: pytz>=2017.2 in c:\\users\\bishal\\anaconda3\\lib\\site-packages (from pandas>=0.19.2->cufflinks) (2020.1)\n",
      "Requirement already satisfied: python-dateutil>=2.7.3 in c:\\users\\bishal\\anaconda3\\lib\\site-packages (from pandas>=0.19.2->cufflinks) (2.8.1)\n",
      "Requirement already satisfied: nbformat>=4.2.0 in c:\\users\\bishal\\anaconda3\\lib\\site-packages (from ipywidgets>=7.0.0->cufflinks) (5.0.8)\n",
      "Requirement already satisfied: ipykernel>=4.5.1 in c:\\users\\bishal\\anaconda3\\lib\\site-packages (from ipywidgets>=7.0.0->cufflinks) (5.3.4)\n",
      "Requirement already satisfied: widgetsnbextension~=3.5.0 in c:\\users\\bishal\\anaconda3\\lib\\site-packages (from ipywidgets>=7.0.0->cufflinks) (3.5.1)\n",
      "Requirement already satisfied: ipython-genutils in c:\\users\\bishal\\anaconda3\\lib\\site-packages (from traitlets>=4.2->ipython>=5.3.0->cufflinks) (0.2.0)\n",
      "Requirement already satisfied: wcwidth in c:\\users\\bishal\\anaconda3\\lib\\site-packages (from prompt-toolkit!=3.0.0,!=3.0.1,<3.1.0,>=2.0.0->ipython>=5.3.0->cufflinks) (0.2.5)\n",
      "Requirement already satisfied: parso<0.8.0,>=0.7.0 in c:\\users\\bishal\\anaconda3\\lib\\site-packages (from jedi>=0.10->ipython>=5.3.0->cufflinks) (0.7.0)\n",
      "Requirement already satisfied: pyparsing>=2.0.2 in c:\\users\\bishal\\anaconda3\\lib\\site-packages (from packaging->plotly>=4.1.1->cufflinks) (2.4.7)\n",
      "Requirement already satisfied: jsonschema!=2.5.0,>=2.4 in c:\\users\\bishal\\anaconda3\\lib\\site-packages (from nbformat>=4.2.0->ipywidgets>=7.0.0->cufflinks) (3.2.0)\n",
      "Requirement already satisfied: jupyter-core in c:\\users\\bishal\\anaconda3\\lib\\site-packages (from nbformat>=4.2.0->ipywidgets>=7.0.0->cufflinks) (4.6.3)\n",
      "Requirement already satisfied: tornado>=4.2 in c:\\users\\bishal\\anaconda3\\lib\\site-packages (from ipykernel>=4.5.1->ipywidgets>=7.0.0->cufflinks) (6.0.4)\n",
      "Requirement already satisfied: jupyter-client in c:\\users\\bishal\\anaconda3\\lib\\site-packages (from ipykernel>=4.5.1->ipywidgets>=7.0.0->cufflinks) (6.1.7)\n",
      "Requirement already satisfied: notebook>=4.4.1 in c:\\users\\bishal\\anaconda3\\lib\\site-packages (from widgetsnbextension~=3.5.0->ipywidgets>=7.0.0->cufflinks) (6.1.4)\n",
      "Requirement already satisfied: pyrsistent>=0.14.0 in c:\\users\\bishal\\anaconda3\\lib\\site-packages (from jsonschema!=2.5.0,>=2.4->nbformat>=4.2.0->ipywidgets>=7.0.0->cufflinks) (0.17.3)\n",
      "Requirement already satisfied: attrs>=17.4.0 in c:\\users\\bishal\\anaconda3\\lib\\site-packages (from jsonschema!=2.5.0,>=2.4->nbformat>=4.2.0->ipywidgets>=7.0.0->cufflinks) (20.3.0)\n",
      "Requirement already satisfied: pywin32>=1.0; sys_platform == \"win32\" in c:\\users\\bishal\\anaconda3\\lib\\site-packages (from jupyter-core->nbformat>=4.2.0->ipywidgets>=7.0.0->cufflinks) (227)\n",
      "Requirement already satisfied: pyzmq>=13 in c:\\users\\bishal\\anaconda3\\lib\\site-packages (from jupyter-client->ipykernel>=4.5.1->ipywidgets>=7.0.0->cufflinks) (19.0.2)\n",
      "Requirement already satisfied: terminado>=0.8.3 in c:\\users\\bishal\\anaconda3\\lib\\site-packages (from notebook>=4.4.1->widgetsnbextension~=3.5.0->ipywidgets>=7.0.0->cufflinks) (0.9.1)\n",
      "Requirement already satisfied: prometheus-client in c:\\users\\bishal\\anaconda3\\lib\\site-packages (from notebook>=4.4.1->widgetsnbextension~=3.5.0->ipywidgets>=7.0.0->cufflinks) (0.8.0)\n",
      "Requirement already satisfied: nbconvert in c:\\users\\bishal\\anaconda3\\lib\\site-packages (from notebook>=4.4.1->widgetsnbextension~=3.5.0->ipywidgets>=7.0.0->cufflinks) (6.0.7)\n",
      "Requirement already satisfied: argon2-cffi in c:\\users\\bishal\\anaconda3\\lib\\site-packages (from notebook>=4.4.1->widgetsnbextension~=3.5.0->ipywidgets>=7.0.0->cufflinks) (20.1.0)\n",
      "Requirement already satisfied: jinja2 in c:\\users\\bishal\\anaconda3\\lib\\site-packages (from notebook>=4.4.1->widgetsnbextension~=3.5.0->ipywidgets>=7.0.0->cufflinks) (2.11.2)\n",
      "Requirement already satisfied: Send2Trash in c:\\users\\bishal\\anaconda3\\lib\\site-packages (from notebook>=4.4.1->widgetsnbextension~=3.5.0->ipywidgets>=7.0.0->cufflinks) (1.5.0)\n",
      "Requirement already satisfied: pywinpty>=0.5 in c:\\users\\bishal\\anaconda3\\lib\\site-packages (from terminado>=0.8.3->notebook>=4.4.1->widgetsnbextension~=3.5.0->ipywidgets>=7.0.0->cufflinks) (0.5.7)\n",
      "Requirement already satisfied: jupyterlab-pygments in c:\\users\\bishal\\anaconda3\\lib\\site-packages (from nbconvert->notebook>=4.4.1->widgetsnbextension~=3.5.0->ipywidgets>=7.0.0->cufflinks) (0.1.2)\n",
      "Requirement already satisfied: nbclient<0.6.0,>=0.5.0 in c:\\users\\bishal\\anaconda3\\lib\\site-packages (from nbconvert->notebook>=4.4.1->widgetsnbextension~=3.5.0->ipywidgets>=7.0.0->cufflinks) (0.5.1)\n",
      "Requirement already satisfied: bleach in c:\\users\\bishal\\anaconda3\\lib\\site-packages (from nbconvert->notebook>=4.4.1->widgetsnbextension~=3.5.0->ipywidgets>=7.0.0->cufflinks) (3.2.1)\n",
      "Requirement already satisfied: testpath in c:\\users\\bishal\\anaconda3\\lib\\site-packages (from nbconvert->notebook>=4.4.1->widgetsnbextension~=3.5.0->ipywidgets>=7.0.0->cufflinks) (0.4.4)\n",
      "Requirement already satisfied: entrypoints>=0.2.2 in c:\\users\\bishal\\anaconda3\\lib\\site-packages (from nbconvert->notebook>=4.4.1->widgetsnbextension~=3.5.0->ipywidgets>=7.0.0->cufflinks) (0.3)\n",
      "Requirement already satisfied: pandocfilters>=1.4.1 in c:\\users\\bishal\\anaconda3\\lib\\site-packages (from nbconvert->notebook>=4.4.1->widgetsnbextension~=3.5.0->ipywidgets>=7.0.0->cufflinks) (1.4.3)\n",
      "Requirement already satisfied: defusedxml in c:\\users\\bishal\\anaconda3\\lib\\site-packages (from nbconvert->notebook>=4.4.1->widgetsnbextension~=3.5.0->ipywidgets>=7.0.0->cufflinks) (0.6.0)\n",
      "Requirement already satisfied: mistune<2,>=0.8.1 in c:\\users\\bishal\\anaconda3\\lib\\site-packages (from nbconvert->notebook>=4.4.1->widgetsnbextension~=3.5.0->ipywidgets>=7.0.0->cufflinks) (0.8.4)\n",
      "Requirement already satisfied: cffi>=1.0.0 in c:\\users\\bishal\\anaconda3\\lib\\site-packages (from argon2-cffi->notebook>=4.4.1->widgetsnbextension~=3.5.0->ipywidgets>=7.0.0->cufflinks) (1.14.3)\n",
      "Requirement already satisfied: MarkupSafe>=0.23 in c:\\users\\bishal\\anaconda3\\lib\\site-packages (from jinja2->notebook>=4.4.1->widgetsnbextension~=3.5.0->ipywidgets>=7.0.0->cufflinks) (1.1.1)\n",
      "Requirement already satisfied: async-generator in c:\\users\\bishal\\anaconda3\\lib\\site-packages (from nbclient<0.6.0,>=0.5.0->nbconvert->notebook>=4.4.1->widgetsnbextension~=3.5.0->ipywidgets>=7.0.0->cufflinks) (1.10)\n",
      "Requirement already satisfied: nest-asyncio in c:\\users\\bishal\\anaconda3\\lib\\site-packages (from nbclient<0.6.0,>=0.5.0->nbconvert->notebook>=4.4.1->widgetsnbextension~=3.5.0->ipywidgets>=7.0.0->cufflinks) (1.4.2)\n",
      "Requirement already satisfied: webencodings in c:\\users\\bishal\\anaconda3\\lib\\site-packages (from bleach->nbconvert->notebook>=4.4.1->widgetsnbextension~=3.5.0->ipywidgets>=7.0.0->cufflinks) (0.5.1)\n",
      "Requirement already satisfied: pycparser in c:\\users\\bishal\\anaconda3\\lib\\site-packages (from cffi>=1.0.0->argon2-cffi->notebook>=4.4.1->widgetsnbextension~=3.5.0->ipywidgets>=7.0.0->cufflinks) (2.20)\n",
      "Note: you may need to restart the kernel to use updated packages.\n"
     ]
    }
   ],
   "source": [
    "pip install cufflinks"
   ]
  },
  {
   "cell_type": "code",
   "execution_count": 87,
   "metadata": {},
   "outputs": [],
   "source": [
    "import plotly.express as px"
   ]
  },
  {
   "cell_type": "markdown",
   "metadata": {},
   "source": [
    "###  Analyze the Unemployment rate of each state with the help of sunburst plot:"
   ]
  },
  {
   "cell_type": "code",
   "execution_count": 88,
   "metadata": {},
   "outputs": [
    {
     "data": {
      "application/vnd.plotly.v1+json": {
       "config": {
        "plotlyServerURL": "https://plot.ly"
       },
       "data": [
        {
         "branchvalues": "total",
         "domain": {
          "x": [
           0,
           1
          ],
          "y": [
           0,
           1
          ]
         },
         "hovertemplate": "labels=%{label}<br>Unemployment Rate=%{value}<br>parent=%{parent}<br>id=%{id}<extra></extra>",
         "ids": [
          "South/Andhra Pradesh",
          "Northeast/Assam",
          "East/Bihar",
          "West/Chhattisgarh",
          "North/Delhi",
          "West/Goa",
          "West/Gujarat",
          "North/Haryana",
          "North/Himachal Pradesh",
          "North/Jammu & Kashmir",
          "East/Jharkhand",
          "South/Karnataka",
          "South/Kerala",
          "West/Madhya Pradesh",
          "West/Maharashtra",
          "Northeast/Meghalaya",
          "East/Odisha",
          "South/Puducherry",
          "North/Punjab",
          "North/Rajasthan",
          "Northeast/Sikkim",
          "South/Tamil Nadu",
          "South/Telangana",
          "Northeast/Tripura",
          "North/Uttar Pradesh",
          "North/Uttarakhand",
          "East/West Bengal",
          "East",
          "North",
          "Northeast",
          "South",
          "West"
         ],
         "labels": [
          "Andhra Pradesh",
          "Assam",
          "Bihar",
          "Chhattisgarh",
          "Delhi",
          "Goa",
          "Gujarat",
          "Haryana",
          "Himachal Pradesh",
          "Jammu & Kashmir",
          "Jharkhand",
          "Karnataka",
          "Kerala",
          "Madhya Pradesh",
          "Maharashtra",
          "Meghalaya",
          "Odisha",
          "Puducherry",
          "Punjab",
          "Rajasthan",
          "Sikkim",
          "Tamil Nadu",
          "Telangana",
          "Tripura",
          "Uttar Pradesh",
          "Uttarakhand",
          "West Bengal",
          "East",
          "North",
          "Northeast",
          "South",
          "West"
         ],
         "name": "",
         "parents": [
          "South",
          "Northeast",
          "East",
          "West",
          "North",
          "West",
          "West",
          "North",
          "North",
          "North",
          "East",
          "South",
          "South",
          "West",
          "West",
          "Northeast",
          "East",
          "South",
          "North",
          "North",
          "Northeast",
          "South",
          "South",
          "Northeast",
          "North",
          "North",
          "East",
          "",
          "",
          "",
          "",
          ""
         ],
         "type": "sunburst",
         "values": [
          86.64,
          48.56000000000001,
          194.70999999999998,
          78.19,
          184.14000000000001,
          121.66999999999999,
          63.760000000000005,
          274.77,
          160.65,
          148.3,
          195.39,
          76.67999999999999,
          94.33999999999999,
          68.53999999999999,
          79.78999999999999,
          38.660000000000004,
          64.62,
          179.42000000000002,
          119.80999999999999,
          158.68,
          78.34,
          121.87,
          68.33,
          250.54999999999998,
          97.37,
          111.56000000000002,
          101.92,
          556.6400000000002,
          1255.28,
          416.11,
          627.2799999999997,
          411.95000000000005
         ]
        }
       ],
       "layout": {
        "height": 700,
        "legend": {
         "tracegroupgap": 0
        },
        "template": {
         "data": {
          "bar": [
           {
            "error_x": {
             "color": "#2a3f5f"
            },
            "error_y": {
             "color": "#2a3f5f"
            },
            "marker": {
             "line": {
              "color": "#E5ECF6",
              "width": 0.5
             },
             "pattern": {
              "fillmode": "overlay",
              "size": 10,
              "solidity": 0.2
             }
            },
            "type": "bar"
           }
          ],
          "barpolar": [
           {
            "marker": {
             "line": {
              "color": "#E5ECF6",
              "width": 0.5
             },
             "pattern": {
              "fillmode": "overlay",
              "size": 10,
              "solidity": 0.2
             }
            },
            "type": "barpolar"
           }
          ],
          "carpet": [
           {
            "aaxis": {
             "endlinecolor": "#2a3f5f",
             "gridcolor": "white",
             "linecolor": "white",
             "minorgridcolor": "white",
             "startlinecolor": "#2a3f5f"
            },
            "baxis": {
             "endlinecolor": "#2a3f5f",
             "gridcolor": "white",
             "linecolor": "white",
             "minorgridcolor": "white",
             "startlinecolor": "#2a3f5f"
            },
            "type": "carpet"
           }
          ],
          "choropleth": [
           {
            "colorbar": {
             "outlinewidth": 0,
             "ticks": ""
            },
            "type": "choropleth"
           }
          ],
          "contour": [
           {
            "colorbar": {
             "outlinewidth": 0,
             "ticks": ""
            },
            "colorscale": [
             [
              0,
              "#0d0887"
             ],
             [
              0.1111111111111111,
              "#46039f"
             ],
             [
              0.2222222222222222,
              "#7201a8"
             ],
             [
              0.3333333333333333,
              "#9c179e"
             ],
             [
              0.4444444444444444,
              "#bd3786"
             ],
             [
              0.5555555555555556,
              "#d8576b"
             ],
             [
              0.6666666666666666,
              "#ed7953"
             ],
             [
              0.7777777777777778,
              "#fb9f3a"
             ],
             [
              0.8888888888888888,
              "#fdca26"
             ],
             [
              1,
              "#f0f921"
             ]
            ],
            "type": "contour"
           }
          ],
          "contourcarpet": [
           {
            "colorbar": {
             "outlinewidth": 0,
             "ticks": ""
            },
            "type": "contourcarpet"
           }
          ],
          "heatmap": [
           {
            "colorbar": {
             "outlinewidth": 0,
             "ticks": ""
            },
            "colorscale": [
             [
              0,
              "#0d0887"
             ],
             [
              0.1111111111111111,
              "#46039f"
             ],
             [
              0.2222222222222222,
              "#7201a8"
             ],
             [
              0.3333333333333333,
              "#9c179e"
             ],
             [
              0.4444444444444444,
              "#bd3786"
             ],
             [
              0.5555555555555556,
              "#d8576b"
             ],
             [
              0.6666666666666666,
              "#ed7953"
             ],
             [
              0.7777777777777778,
              "#fb9f3a"
             ],
             [
              0.8888888888888888,
              "#fdca26"
             ],
             [
              1,
              "#f0f921"
             ]
            ],
            "type": "heatmap"
           }
          ],
          "heatmapgl": [
           {
            "colorbar": {
             "outlinewidth": 0,
             "ticks": ""
            },
            "colorscale": [
             [
              0,
              "#0d0887"
             ],
             [
              0.1111111111111111,
              "#46039f"
             ],
             [
              0.2222222222222222,
              "#7201a8"
             ],
             [
              0.3333333333333333,
              "#9c179e"
             ],
             [
              0.4444444444444444,
              "#bd3786"
             ],
             [
              0.5555555555555556,
              "#d8576b"
             ],
             [
              0.6666666666666666,
              "#ed7953"
             ],
             [
              0.7777777777777778,
              "#fb9f3a"
             ],
             [
              0.8888888888888888,
              "#fdca26"
             ],
             [
              1,
              "#f0f921"
             ]
            ],
            "type": "heatmapgl"
           }
          ],
          "histogram": [
           {
            "marker": {
             "pattern": {
              "fillmode": "overlay",
              "size": 10,
              "solidity": 0.2
             }
            },
            "type": "histogram"
           }
          ],
          "histogram2d": [
           {
            "colorbar": {
             "outlinewidth": 0,
             "ticks": ""
            },
            "colorscale": [
             [
              0,
              "#0d0887"
             ],
             [
              0.1111111111111111,
              "#46039f"
             ],
             [
              0.2222222222222222,
              "#7201a8"
             ],
             [
              0.3333333333333333,
              "#9c179e"
             ],
             [
              0.4444444444444444,
              "#bd3786"
             ],
             [
              0.5555555555555556,
              "#d8576b"
             ],
             [
              0.6666666666666666,
              "#ed7953"
             ],
             [
              0.7777777777777778,
              "#fb9f3a"
             ],
             [
              0.8888888888888888,
              "#fdca26"
             ],
             [
              1,
              "#f0f921"
             ]
            ],
            "type": "histogram2d"
           }
          ],
          "histogram2dcontour": [
           {
            "colorbar": {
             "outlinewidth": 0,
             "ticks": ""
            },
            "colorscale": [
             [
              0,
              "#0d0887"
             ],
             [
              0.1111111111111111,
              "#46039f"
             ],
             [
              0.2222222222222222,
              "#7201a8"
             ],
             [
              0.3333333333333333,
              "#9c179e"
             ],
             [
              0.4444444444444444,
              "#bd3786"
             ],
             [
              0.5555555555555556,
              "#d8576b"
             ],
             [
              0.6666666666666666,
              "#ed7953"
             ],
             [
              0.7777777777777778,
              "#fb9f3a"
             ],
             [
              0.8888888888888888,
              "#fdca26"
             ],
             [
              1,
              "#f0f921"
             ]
            ],
            "type": "histogram2dcontour"
           }
          ],
          "mesh3d": [
           {
            "colorbar": {
             "outlinewidth": 0,
             "ticks": ""
            },
            "type": "mesh3d"
           }
          ],
          "parcoords": [
           {
            "line": {
             "colorbar": {
              "outlinewidth": 0,
              "ticks": ""
             }
            },
            "type": "parcoords"
           }
          ],
          "pie": [
           {
            "automargin": true,
            "type": "pie"
           }
          ],
          "scatter": [
           {
            "fillpattern": {
             "fillmode": "overlay",
             "size": 10,
             "solidity": 0.2
            },
            "type": "scatter"
           }
          ],
          "scatter3d": [
           {
            "line": {
             "colorbar": {
              "outlinewidth": 0,
              "ticks": ""
             }
            },
            "marker": {
             "colorbar": {
              "outlinewidth": 0,
              "ticks": ""
             }
            },
            "type": "scatter3d"
           }
          ],
          "scattercarpet": [
           {
            "marker": {
             "colorbar": {
              "outlinewidth": 0,
              "ticks": ""
             }
            },
            "type": "scattercarpet"
           }
          ],
          "scattergeo": [
           {
            "marker": {
             "colorbar": {
              "outlinewidth": 0,
              "ticks": ""
             }
            },
            "type": "scattergeo"
           }
          ],
          "scattergl": [
           {
            "marker": {
             "colorbar": {
              "outlinewidth": 0,
              "ticks": ""
             }
            },
            "type": "scattergl"
           }
          ],
          "scattermapbox": [
           {
            "marker": {
             "colorbar": {
              "outlinewidth": 0,
              "ticks": ""
             }
            },
            "type": "scattermapbox"
           }
          ],
          "scatterpolar": [
           {
            "marker": {
             "colorbar": {
              "outlinewidth": 0,
              "ticks": ""
             }
            },
            "type": "scatterpolar"
           }
          ],
          "scatterpolargl": [
           {
            "marker": {
             "colorbar": {
              "outlinewidth": 0,
              "ticks": ""
             }
            },
            "type": "scatterpolargl"
           }
          ],
          "scatterternary": [
           {
            "marker": {
             "colorbar": {
              "outlinewidth": 0,
              "ticks": ""
             }
            },
            "type": "scatterternary"
           }
          ],
          "surface": [
           {
            "colorbar": {
             "outlinewidth": 0,
             "ticks": ""
            },
            "colorscale": [
             [
              0,
              "#0d0887"
             ],
             [
              0.1111111111111111,
              "#46039f"
             ],
             [
              0.2222222222222222,
              "#7201a8"
             ],
             [
              0.3333333333333333,
              "#9c179e"
             ],
             [
              0.4444444444444444,
              "#bd3786"
             ],
             [
              0.5555555555555556,
              "#d8576b"
             ],
             [
              0.6666666666666666,
              "#ed7953"
             ],
             [
              0.7777777777777778,
              "#fb9f3a"
             ],
             [
              0.8888888888888888,
              "#fdca26"
             ],
             [
              1,
              "#f0f921"
             ]
            ],
            "type": "surface"
           }
          ],
          "table": [
           {
            "cells": {
             "fill": {
              "color": "#EBF0F8"
             },
             "line": {
              "color": "white"
             }
            },
            "header": {
             "fill": {
              "color": "#C8D4E3"
             },
             "line": {
              "color": "white"
             }
            },
            "type": "table"
           }
          ]
         },
         "layout": {
          "annotationdefaults": {
           "arrowcolor": "#2a3f5f",
           "arrowhead": 0,
           "arrowwidth": 1
          },
          "autotypenumbers": "strict",
          "coloraxis": {
           "colorbar": {
            "outlinewidth": 0,
            "ticks": ""
           }
          },
          "colorscale": {
           "diverging": [
            [
             0,
             "#8e0152"
            ],
            [
             0.1,
             "#c51b7d"
            ],
            [
             0.2,
             "#de77ae"
            ],
            [
             0.3,
             "#f1b6da"
            ],
            [
             0.4,
             "#fde0ef"
            ],
            [
             0.5,
             "#f7f7f7"
            ],
            [
             0.6,
             "#e6f5d0"
            ],
            [
             0.7,
             "#b8e186"
            ],
            [
             0.8,
             "#7fbc41"
            ],
            [
             0.9,
             "#4d9221"
            ],
            [
             1,
             "#276419"
            ]
           ],
           "sequential": [
            [
             0,
             "#0d0887"
            ],
            [
             0.1111111111111111,
             "#46039f"
            ],
            [
             0.2222222222222222,
             "#7201a8"
            ],
            [
             0.3333333333333333,
             "#9c179e"
            ],
            [
             0.4444444444444444,
             "#bd3786"
            ],
            [
             0.5555555555555556,
             "#d8576b"
            ],
            [
             0.6666666666666666,
             "#ed7953"
            ],
            [
             0.7777777777777778,
             "#fb9f3a"
            ],
            [
             0.8888888888888888,
             "#fdca26"
            ],
            [
             1,
             "#f0f921"
            ]
           ],
           "sequentialminus": [
            [
             0,
             "#0d0887"
            ],
            [
             0.1111111111111111,
             "#46039f"
            ],
            [
             0.2222222222222222,
             "#7201a8"
            ],
            [
             0.3333333333333333,
             "#9c179e"
            ],
            [
             0.4444444444444444,
             "#bd3786"
            ],
            [
             0.5555555555555556,
             "#d8576b"
            ],
            [
             0.6666666666666666,
             "#ed7953"
            ],
            [
             0.7777777777777778,
             "#fb9f3a"
            ],
            [
             0.8888888888888888,
             "#fdca26"
            ],
            [
             1,
             "#f0f921"
            ]
           ]
          },
          "colorway": [
           "#636efa",
           "#EF553B",
           "#00cc96",
           "#ab63fa",
           "#FFA15A",
           "#19d3f3",
           "#FF6692",
           "#B6E880",
           "#FF97FF",
           "#FECB52"
          ],
          "font": {
           "color": "#2a3f5f"
          },
          "geo": {
           "bgcolor": "white",
           "lakecolor": "white",
           "landcolor": "#E5ECF6",
           "showlakes": true,
           "showland": true,
           "subunitcolor": "white"
          },
          "hoverlabel": {
           "align": "left"
          },
          "hovermode": "closest",
          "mapbox": {
           "style": "light"
          },
          "paper_bgcolor": "white",
          "plot_bgcolor": "#E5ECF6",
          "polar": {
           "angularaxis": {
            "gridcolor": "white",
            "linecolor": "white",
            "ticks": ""
           },
           "bgcolor": "#E5ECF6",
           "radialaxis": {
            "gridcolor": "white",
            "linecolor": "white",
            "ticks": ""
           }
          },
          "scene": {
           "xaxis": {
            "backgroundcolor": "#E5ECF6",
            "gridcolor": "white",
            "gridwidth": 2,
            "linecolor": "white",
            "showbackground": true,
            "ticks": "",
            "zerolinecolor": "white"
           },
           "yaxis": {
            "backgroundcolor": "#E5ECF6",
            "gridcolor": "white",
            "gridwidth": 2,
            "linecolor": "white",
            "showbackground": true,
            "ticks": "",
            "zerolinecolor": "white"
           },
           "zaxis": {
            "backgroundcolor": "#E5ECF6",
            "gridcolor": "white",
            "gridwidth": 2,
            "linecolor": "white",
            "showbackground": true,
            "ticks": "",
            "zerolinecolor": "white"
           }
          },
          "shapedefaults": {
           "line": {
            "color": "#2a3f5f"
           }
          },
          "ternary": {
           "aaxis": {
            "gridcolor": "white",
            "linecolor": "white",
            "ticks": ""
           },
           "baxis": {
            "gridcolor": "white",
            "linecolor": "white",
            "ticks": ""
           },
           "bgcolor": "#E5ECF6",
           "caxis": {
            "gridcolor": "white",
            "linecolor": "white",
            "ticks": ""
           }
          },
          "title": {
           "x": 0.05
          },
          "xaxis": {
           "automargin": true,
           "gridcolor": "white",
           "linecolor": "white",
           "ticks": "",
           "title": {
            "standoff": 15
           },
           "zerolinecolor": "white",
           "zerolinewidth": 2
          },
          "yaxis": {
           "automargin": true,
           "gridcolor": "white",
           "linecolor": "white",
           "ticks": "",
           "title": {
            "standoff": 15
           },
           "zerolinecolor": "white",
           "zerolinewidth": 2
          }
         }
        },
        "title": {
         "text": "Unemployment Rate in India"
        },
        "width": 700
       }
      },
      "text/html": [
       "<div>                            <div id=\"453237ce-34ff-4601-9ba1-30339c8dbf69\" class=\"plotly-graph-div\" style=\"height:700px; width:700px;\"></div>            <script type=\"text/javascript\">                require([\"plotly\"], function(Plotly) {                    window.PLOTLYENV=window.PLOTLYENV || {};                                    if (document.getElementById(\"453237ce-34ff-4601-9ba1-30339c8dbf69\")) {                    Plotly.newPlot(                        \"453237ce-34ff-4601-9ba1-30339c8dbf69\",                        [{\"branchvalues\":\"total\",\"domain\":{\"x\":[0.0,1.0],\"y\":[0.0,1.0]},\"hovertemplate\":\"labels=%{label}\\u003cbr\\u003eUnemployment Rate=%{value}\\u003cbr\\u003eparent=%{parent}\\u003cbr\\u003eid=%{id}\\u003cextra\\u003e\\u003c\\u002fextra\\u003e\",\"ids\":[\"South\\u002fAndhra Pradesh\",\"Northeast\\u002fAssam\",\"East\\u002fBihar\",\"West\\u002fChhattisgarh\",\"North\\u002fDelhi\",\"West\\u002fGoa\",\"West\\u002fGujarat\",\"North\\u002fHaryana\",\"North\\u002fHimachal Pradesh\",\"North\\u002fJammu & Kashmir\",\"East\\u002fJharkhand\",\"South\\u002fKarnataka\",\"South\\u002fKerala\",\"West\\u002fMadhya Pradesh\",\"West\\u002fMaharashtra\",\"Northeast\\u002fMeghalaya\",\"East\\u002fOdisha\",\"South\\u002fPuducherry\",\"North\\u002fPunjab\",\"North\\u002fRajasthan\",\"Northeast\\u002fSikkim\",\"South\\u002fTamil Nadu\",\"South\\u002fTelangana\",\"Northeast\\u002fTripura\",\"North\\u002fUttar Pradesh\",\"North\\u002fUttarakhand\",\"East\\u002fWest Bengal\",\"East\",\"North\",\"Northeast\",\"South\",\"West\"],\"labels\":[\"Andhra Pradesh\",\"Assam\",\"Bihar\",\"Chhattisgarh\",\"Delhi\",\"Goa\",\"Gujarat\",\"Haryana\",\"Himachal Pradesh\",\"Jammu & Kashmir\",\"Jharkhand\",\"Karnataka\",\"Kerala\",\"Madhya Pradesh\",\"Maharashtra\",\"Meghalaya\",\"Odisha\",\"Puducherry\",\"Punjab\",\"Rajasthan\",\"Sikkim\",\"Tamil Nadu\",\"Telangana\",\"Tripura\",\"Uttar Pradesh\",\"Uttarakhand\",\"West Bengal\",\"East\",\"North\",\"Northeast\",\"South\",\"West\"],\"name\":\"\",\"parents\":[\"South\",\"Northeast\",\"East\",\"West\",\"North\",\"West\",\"West\",\"North\",\"North\",\"North\",\"East\",\"South\",\"South\",\"West\",\"West\",\"Northeast\",\"East\",\"South\",\"North\",\"North\",\"Northeast\",\"South\",\"South\",\"Northeast\",\"North\",\"North\",\"East\",\"\",\"\",\"\",\"\",\"\"],\"values\":[86.64,48.56000000000001,194.70999999999998,78.19,184.14000000000001,121.66999999999999,63.760000000000005,274.77,160.65,148.3,195.39,76.67999999999999,94.33999999999999,68.53999999999999,79.78999999999999,38.660000000000004,64.62,179.42000000000002,119.80999999999999,158.68,78.34,121.87,68.33,250.54999999999998,97.37,111.56000000000002,101.92,556.6400000000002,1255.28,416.11,627.2799999999997,411.95000000000005],\"type\":\"sunburst\"}],                        {\"template\":{\"data\":{\"histogram2dcontour\":[{\"type\":\"histogram2dcontour\",\"colorbar\":{\"outlinewidth\":0,\"ticks\":\"\"},\"colorscale\":[[0.0,\"#0d0887\"],[0.1111111111111111,\"#46039f\"],[0.2222222222222222,\"#7201a8\"],[0.3333333333333333,\"#9c179e\"],[0.4444444444444444,\"#bd3786\"],[0.5555555555555556,\"#d8576b\"],[0.6666666666666666,\"#ed7953\"],[0.7777777777777778,\"#fb9f3a\"],[0.8888888888888888,\"#fdca26\"],[1.0,\"#f0f921\"]]}],\"choropleth\":[{\"type\":\"choropleth\",\"colorbar\":{\"outlinewidth\":0,\"ticks\":\"\"}}],\"histogram2d\":[{\"type\":\"histogram2d\",\"colorbar\":{\"outlinewidth\":0,\"ticks\":\"\"},\"colorscale\":[[0.0,\"#0d0887\"],[0.1111111111111111,\"#46039f\"],[0.2222222222222222,\"#7201a8\"],[0.3333333333333333,\"#9c179e\"],[0.4444444444444444,\"#bd3786\"],[0.5555555555555556,\"#d8576b\"],[0.6666666666666666,\"#ed7953\"],[0.7777777777777778,\"#fb9f3a\"],[0.8888888888888888,\"#fdca26\"],[1.0,\"#f0f921\"]]}],\"heatmap\":[{\"type\":\"heatmap\",\"colorbar\":{\"outlinewidth\":0,\"ticks\":\"\"},\"colorscale\":[[0.0,\"#0d0887\"],[0.1111111111111111,\"#46039f\"],[0.2222222222222222,\"#7201a8\"],[0.3333333333333333,\"#9c179e\"],[0.4444444444444444,\"#bd3786\"],[0.5555555555555556,\"#d8576b\"],[0.6666666666666666,\"#ed7953\"],[0.7777777777777778,\"#fb9f3a\"],[0.8888888888888888,\"#fdca26\"],[1.0,\"#f0f921\"]]}],\"heatmapgl\":[{\"type\":\"heatmapgl\",\"colorbar\":{\"outlinewidth\":0,\"ticks\":\"\"},\"colorscale\":[[0.0,\"#0d0887\"],[0.1111111111111111,\"#46039f\"],[0.2222222222222222,\"#7201a8\"],[0.3333333333333333,\"#9c179e\"],[0.4444444444444444,\"#bd3786\"],[0.5555555555555556,\"#d8576b\"],[0.6666666666666666,\"#ed7953\"],[0.7777777777777778,\"#fb9f3a\"],[0.8888888888888888,\"#fdca26\"],[1.0,\"#f0f921\"]]}],\"contourcarpet\":[{\"type\":\"contourcarpet\",\"colorbar\":{\"outlinewidth\":0,\"ticks\":\"\"}}],\"contour\":[{\"type\":\"contour\",\"colorbar\":{\"outlinewidth\":0,\"ticks\":\"\"},\"colorscale\":[[0.0,\"#0d0887\"],[0.1111111111111111,\"#46039f\"],[0.2222222222222222,\"#7201a8\"],[0.3333333333333333,\"#9c179e\"],[0.4444444444444444,\"#bd3786\"],[0.5555555555555556,\"#d8576b\"],[0.6666666666666666,\"#ed7953\"],[0.7777777777777778,\"#fb9f3a\"],[0.8888888888888888,\"#fdca26\"],[1.0,\"#f0f921\"]]}],\"surface\":[{\"type\":\"surface\",\"colorbar\":{\"outlinewidth\":0,\"ticks\":\"\"},\"colorscale\":[[0.0,\"#0d0887\"],[0.1111111111111111,\"#46039f\"],[0.2222222222222222,\"#7201a8\"],[0.3333333333333333,\"#9c179e\"],[0.4444444444444444,\"#bd3786\"],[0.5555555555555556,\"#d8576b\"],[0.6666666666666666,\"#ed7953\"],[0.7777777777777778,\"#fb9f3a\"],[0.8888888888888888,\"#fdca26\"],[1.0,\"#f0f921\"]]}],\"mesh3d\":[{\"type\":\"mesh3d\",\"colorbar\":{\"outlinewidth\":0,\"ticks\":\"\"}}],\"scatter\":[{\"fillpattern\":{\"fillmode\":\"overlay\",\"size\":10,\"solidity\":0.2},\"type\":\"scatter\"}],\"parcoords\":[{\"type\":\"parcoords\",\"line\":{\"colorbar\":{\"outlinewidth\":0,\"ticks\":\"\"}}}],\"scatterpolargl\":[{\"type\":\"scatterpolargl\",\"marker\":{\"colorbar\":{\"outlinewidth\":0,\"ticks\":\"\"}}}],\"bar\":[{\"error_x\":{\"color\":\"#2a3f5f\"},\"error_y\":{\"color\":\"#2a3f5f\"},\"marker\":{\"line\":{\"color\":\"#E5ECF6\",\"width\":0.5},\"pattern\":{\"fillmode\":\"overlay\",\"size\":10,\"solidity\":0.2}},\"type\":\"bar\"}],\"scattergeo\":[{\"type\":\"scattergeo\",\"marker\":{\"colorbar\":{\"outlinewidth\":0,\"ticks\":\"\"}}}],\"scatterpolar\":[{\"type\":\"scatterpolar\",\"marker\":{\"colorbar\":{\"outlinewidth\":0,\"ticks\":\"\"}}}],\"histogram\":[{\"marker\":{\"pattern\":{\"fillmode\":\"overlay\",\"size\":10,\"solidity\":0.2}},\"type\":\"histogram\"}],\"scattergl\":[{\"type\":\"scattergl\",\"marker\":{\"colorbar\":{\"outlinewidth\":0,\"ticks\":\"\"}}}],\"scatter3d\":[{\"type\":\"scatter3d\",\"line\":{\"colorbar\":{\"outlinewidth\":0,\"ticks\":\"\"}},\"marker\":{\"colorbar\":{\"outlinewidth\":0,\"ticks\":\"\"}}}],\"scattermapbox\":[{\"type\":\"scattermapbox\",\"marker\":{\"colorbar\":{\"outlinewidth\":0,\"ticks\":\"\"}}}],\"scatterternary\":[{\"type\":\"scatterternary\",\"marker\":{\"colorbar\":{\"outlinewidth\":0,\"ticks\":\"\"}}}],\"scattercarpet\":[{\"type\":\"scattercarpet\",\"marker\":{\"colorbar\":{\"outlinewidth\":0,\"ticks\":\"\"}}}],\"carpet\":[{\"aaxis\":{\"endlinecolor\":\"#2a3f5f\",\"gridcolor\":\"white\",\"linecolor\":\"white\",\"minorgridcolor\":\"white\",\"startlinecolor\":\"#2a3f5f\"},\"baxis\":{\"endlinecolor\":\"#2a3f5f\",\"gridcolor\":\"white\",\"linecolor\":\"white\",\"minorgridcolor\":\"white\",\"startlinecolor\":\"#2a3f5f\"},\"type\":\"carpet\"}],\"table\":[{\"cells\":{\"fill\":{\"color\":\"#EBF0F8\"},\"line\":{\"color\":\"white\"}},\"header\":{\"fill\":{\"color\":\"#C8D4E3\"},\"line\":{\"color\":\"white\"}},\"type\":\"table\"}],\"barpolar\":[{\"marker\":{\"line\":{\"color\":\"#E5ECF6\",\"width\":0.5},\"pattern\":{\"fillmode\":\"overlay\",\"size\":10,\"solidity\":0.2}},\"type\":\"barpolar\"}],\"pie\":[{\"automargin\":true,\"type\":\"pie\"}]},\"layout\":{\"autotypenumbers\":\"strict\",\"colorway\":[\"#636efa\",\"#EF553B\",\"#00cc96\",\"#ab63fa\",\"#FFA15A\",\"#19d3f3\",\"#FF6692\",\"#B6E880\",\"#FF97FF\",\"#FECB52\"],\"font\":{\"color\":\"#2a3f5f\"},\"hovermode\":\"closest\",\"hoverlabel\":{\"align\":\"left\"},\"paper_bgcolor\":\"white\",\"plot_bgcolor\":\"#E5ECF6\",\"polar\":{\"bgcolor\":\"#E5ECF6\",\"angularaxis\":{\"gridcolor\":\"white\",\"linecolor\":\"white\",\"ticks\":\"\"},\"radialaxis\":{\"gridcolor\":\"white\",\"linecolor\":\"white\",\"ticks\":\"\"}},\"ternary\":{\"bgcolor\":\"#E5ECF6\",\"aaxis\":{\"gridcolor\":\"white\",\"linecolor\":\"white\",\"ticks\":\"\"},\"baxis\":{\"gridcolor\":\"white\",\"linecolor\":\"white\",\"ticks\":\"\"},\"caxis\":{\"gridcolor\":\"white\",\"linecolor\":\"white\",\"ticks\":\"\"}},\"coloraxis\":{\"colorbar\":{\"outlinewidth\":0,\"ticks\":\"\"}},\"colorscale\":{\"sequential\":[[0.0,\"#0d0887\"],[0.1111111111111111,\"#46039f\"],[0.2222222222222222,\"#7201a8\"],[0.3333333333333333,\"#9c179e\"],[0.4444444444444444,\"#bd3786\"],[0.5555555555555556,\"#d8576b\"],[0.6666666666666666,\"#ed7953\"],[0.7777777777777778,\"#fb9f3a\"],[0.8888888888888888,\"#fdca26\"],[1.0,\"#f0f921\"]],\"sequentialminus\":[[0.0,\"#0d0887\"],[0.1111111111111111,\"#46039f\"],[0.2222222222222222,\"#7201a8\"],[0.3333333333333333,\"#9c179e\"],[0.4444444444444444,\"#bd3786\"],[0.5555555555555556,\"#d8576b\"],[0.6666666666666666,\"#ed7953\"],[0.7777777777777778,\"#fb9f3a\"],[0.8888888888888888,\"#fdca26\"],[1.0,\"#f0f921\"]],\"diverging\":[[0,\"#8e0152\"],[0.1,\"#c51b7d\"],[0.2,\"#de77ae\"],[0.3,\"#f1b6da\"],[0.4,\"#fde0ef\"],[0.5,\"#f7f7f7\"],[0.6,\"#e6f5d0\"],[0.7,\"#b8e186\"],[0.8,\"#7fbc41\"],[0.9,\"#4d9221\"],[1,\"#276419\"]]},\"xaxis\":{\"gridcolor\":\"white\",\"linecolor\":\"white\",\"ticks\":\"\",\"title\":{\"standoff\":15},\"zerolinecolor\":\"white\",\"automargin\":true,\"zerolinewidth\":2},\"yaxis\":{\"gridcolor\":\"white\",\"linecolor\":\"white\",\"ticks\":\"\",\"title\":{\"standoff\":15},\"zerolinecolor\":\"white\",\"automargin\":true,\"zerolinewidth\":2},\"scene\":{\"xaxis\":{\"backgroundcolor\":\"#E5ECF6\",\"gridcolor\":\"white\",\"linecolor\":\"white\",\"showbackground\":true,\"ticks\":\"\",\"zerolinecolor\":\"white\",\"gridwidth\":2},\"yaxis\":{\"backgroundcolor\":\"#E5ECF6\",\"gridcolor\":\"white\",\"linecolor\":\"white\",\"showbackground\":true,\"ticks\":\"\",\"zerolinecolor\":\"white\",\"gridwidth\":2},\"zaxis\":{\"backgroundcolor\":\"#E5ECF6\",\"gridcolor\":\"white\",\"linecolor\":\"white\",\"showbackground\":true,\"ticks\":\"\",\"zerolinecolor\":\"white\",\"gridwidth\":2}},\"shapedefaults\":{\"line\":{\"color\":\"#2a3f5f\"}},\"annotationdefaults\":{\"arrowcolor\":\"#2a3f5f\",\"arrowhead\":0,\"arrowwidth\":1},\"geo\":{\"bgcolor\":\"white\",\"landcolor\":\"#E5ECF6\",\"subunitcolor\":\"white\",\"showland\":true,\"showlakes\":true,\"lakecolor\":\"white\"},\"title\":{\"x\":0.05},\"mapbox\":{\"style\":\"light\"}}},\"legend\":{\"tracegroupgap\":0},\"title\":{\"text\":\"Unemployment Rate in India\"},\"height\":700,\"width\":700},                        {\"responsive\": true}                    ).then(function(){\n",
       "                            \n",
       "var gd = document.getElementById('453237ce-34ff-4601-9ba1-30339c8dbf69');\n",
       "var x = new MutationObserver(function (mutations, observer) {{\n",
       "        var display = window.getComputedStyle(gd).display;\n",
       "        if (!display || display === 'none') {{\n",
       "            console.log([gd, 'removed!']);\n",
       "            Plotly.purge(gd);\n",
       "            observer.disconnect();\n",
       "        }}\n",
       "}});\n",
       "\n",
       "// Listen for the removal of the full notebook cells\n",
       "var notebookContainer = gd.closest('#notebook-container');\n",
       "if (notebookContainer) {{\n",
       "    x.observe(notebookContainer, {childList: true});\n",
       "}}\n",
       "\n",
       "// Listen for the clearing of the current output cell\n",
       "var outputEl = gd.closest('.output');\n",
       "if (outputEl) {{\n",
       "    x.observe(outputEl, {childList: true});\n",
       "}}\n",
       "\n",
       "                        })                };                });            </script>        </div>"
      ]
     },
     "metadata": {},
     "output_type": "display_data"
    }
   ],
   "source": [
    "unemploment = data[['States', 'Region', 'Unemployment Rate']]\n",
    "figure = px.sunburst(unemploment, path=[\"Region\", \"States\"],\n",
    " values=\"Unemployment Rate\",\n",
    " width=700, height=700, color_continuous_scale=\"RdY1Gn\",\n",
    " title=\"Unemployment Rate in India\")\n",
    "figure.show()"
   ]
  },
  {
   "cell_type": "code",
   "execution_count": 89,
   "metadata": {},
   "outputs": [
    {
     "data": {
      "text/html": [
       "<div>\n",
       "<style scoped>\n",
       "    .dataframe tbody tr th:only-of-type {\n",
       "        vertical-align: middle;\n",
       "    }\n",
       "\n",
       "    .dataframe tbody tr th {\n",
       "        vertical-align: top;\n",
       "    }\n",
       "\n",
       "    .dataframe thead th {\n",
       "        text-align: right;\n",
       "    }\n",
       "</style>\n",
       "<table border=\"1\" class=\"dataframe\">\n",
       "  <thead>\n",
       "    <tr style=\"text-align: right;\">\n",
       "      <th></th>\n",
       "      <th>Unemployment Rate</th>\n",
       "    </tr>\n",
       "    <tr>\n",
       "      <th>States</th>\n",
       "      <th></th>\n",
       "    </tr>\n",
       "  </thead>\n",
       "  <tbody>\n",
       "    <tr>\n",
       "      <th>Haryana</th>\n",
       "      <td>274.77</td>\n",
       "    </tr>\n",
       "    <tr>\n",
       "      <th>Tripura</th>\n",
       "      <td>250.55</td>\n",
       "    </tr>\n",
       "    <tr>\n",
       "      <th>Jharkhand</th>\n",
       "      <td>195.39</td>\n",
       "    </tr>\n",
       "    <tr>\n",
       "      <th>Bihar</th>\n",
       "      <td>194.71</td>\n",
       "    </tr>\n",
       "    <tr>\n",
       "      <th>Delhi</th>\n",
       "      <td>184.14</td>\n",
       "    </tr>\n",
       "    <tr>\n",
       "      <th>Puducherry</th>\n",
       "      <td>179.42</td>\n",
       "    </tr>\n",
       "    <tr>\n",
       "      <th>Himachal Pradesh</th>\n",
       "      <td>160.65</td>\n",
       "    </tr>\n",
       "    <tr>\n",
       "      <th>Rajasthan</th>\n",
       "      <td>158.68</td>\n",
       "    </tr>\n",
       "    <tr>\n",
       "      <th>Jammu &amp; Kashmir</th>\n",
       "      <td>148.30</td>\n",
       "    </tr>\n",
       "    <tr>\n",
       "      <th>Tamil Nadu</th>\n",
       "      <td>121.87</td>\n",
       "    </tr>\n",
       "    <tr>\n",
       "      <th>Goa</th>\n",
       "      <td>121.67</td>\n",
       "    </tr>\n",
       "    <tr>\n",
       "      <th>Punjab</th>\n",
       "      <td>119.81</td>\n",
       "    </tr>\n",
       "    <tr>\n",
       "      <th>Uttarakhand</th>\n",
       "      <td>111.56</td>\n",
       "    </tr>\n",
       "    <tr>\n",
       "      <th>West Bengal</th>\n",
       "      <td>101.92</td>\n",
       "    </tr>\n",
       "    <tr>\n",
       "      <th>Uttar Pradesh</th>\n",
       "      <td>97.37</td>\n",
       "    </tr>\n",
       "    <tr>\n",
       "      <th>Kerala</th>\n",
       "      <td>94.34</td>\n",
       "    </tr>\n",
       "    <tr>\n",
       "      <th>Andhra Pradesh</th>\n",
       "      <td>86.64</td>\n",
       "    </tr>\n",
       "    <tr>\n",
       "      <th>Maharashtra</th>\n",
       "      <td>79.79</td>\n",
       "    </tr>\n",
       "    <tr>\n",
       "      <th>Sikkim</th>\n",
       "      <td>78.34</td>\n",
       "    </tr>\n",
       "    <tr>\n",
       "      <th>Chhattisgarh</th>\n",
       "      <td>78.19</td>\n",
       "    </tr>\n",
       "    <tr>\n",
       "      <th>Karnataka</th>\n",
       "      <td>76.68</td>\n",
       "    </tr>\n",
       "    <tr>\n",
       "      <th>Madhya Pradesh</th>\n",
       "      <td>68.54</td>\n",
       "    </tr>\n",
       "    <tr>\n",
       "      <th>Telangana</th>\n",
       "      <td>68.33</td>\n",
       "    </tr>\n",
       "    <tr>\n",
       "      <th>Odisha</th>\n",
       "      <td>64.62</td>\n",
       "    </tr>\n",
       "    <tr>\n",
       "      <th>Gujarat</th>\n",
       "      <td>63.76</td>\n",
       "    </tr>\n",
       "    <tr>\n",
       "      <th>Assam</th>\n",
       "      <td>48.56</td>\n",
       "    </tr>\n",
       "    <tr>\n",
       "      <th>Meghalaya</th>\n",
       "      <td>38.66</td>\n",
       "    </tr>\n",
       "  </tbody>\n",
       "</table>\n",
       "</div>"
      ],
      "text/plain": [
       "                  Unemployment Rate\n",
       "States                             \n",
       "Haryana                      274.77\n",
       "Tripura                      250.55\n",
       "Jharkhand                    195.39\n",
       "Bihar                        194.71\n",
       "Delhi                        184.14\n",
       "Puducherry                   179.42\n",
       "Himachal Pradesh             160.65\n",
       "Rajasthan                    158.68\n",
       "Jammu & Kashmir              148.30\n",
       "Tamil Nadu                   121.87\n",
       "Goa                          121.67\n",
       "Punjab                       119.81\n",
       "Uttarakhand                  111.56\n",
       "West Bengal                  101.92\n",
       "Uttar Pradesh                 97.37\n",
       "Kerala                        94.34\n",
       "Andhra Pradesh                86.64\n",
       "Maharashtra                   79.79\n",
       "Sikkim                        78.34\n",
       "Chhattisgarh                  78.19\n",
       "Karnataka                     76.68\n",
       "Madhya Pradesh                68.54\n",
       "Telangana                     68.33\n",
       "Odisha                        64.62\n",
       "Gujarat                       63.76\n",
       "Assam                         48.56\n",
       "Meghalaya                     38.66"
      ]
     },
     "execution_count": 89,
     "metadata": {},
     "output_type": "execute_result"
    }
   ],
   "source": [
    "# State wise unemployement\n",
    "\n",
    "unemployed_rate= data[['States','Unemployment Rate']].groupby('States').sum().sort_values(by='Unemployment Rate', ascending =False)\n",
    "unemployed_rate"
   ]
  },
  {
   "cell_type": "code",
   "execution_count": 92,
   "metadata": {},
   "outputs": [
    {
     "name": "stdout",
     "output_type": "stream",
     "text": [
      "           Unemployment Rate\n",
      "Region                      \n",
      "North              15.889620\n",
      "East               13.916000\n",
      "Northeast          10.950263\n",
      "South              10.454667\n",
      "West                8.239000\n"
     ]
    }
   ],
   "source": [
    "#Region wise unemployment rate\n",
    "\n",
    "make_total = data.pivot_table(\"Unemployment Rate\",index=['Region'],aggfunc='mean')\n",
    "topstate=make_total.sort_values(by='Unemployment Rate',ascending=False)[:47]\n",
    "print(topstate)\n"
   ]
  }
 ],
 "metadata": {
  "kernelspec": {
   "display_name": "Python 3",
   "language": "python",
   "name": "python3"
  },
  "language_info": {
   "codemirror_mode": {
    "name": "ipython",
    "version": 3
   },
   "file_extension": ".py",
   "mimetype": "text/x-python",
   "name": "python",
   "nbconvert_exporter": "python",
   "pygments_lexer": "ipython3",
   "version": "3.8.5"
  }
 },
 "nbformat": 4,
 "nbformat_minor": 4
}
